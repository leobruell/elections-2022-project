{
 "cells": [
  {
   "cell_type": "markdown",
   "id": "1b8823bd",
   "metadata": {},
   "source": [
    "# First Senate Predictions\n",
    "\n",
    "After cleaning the data (in data-cleaning.ipynb), we will now try to use the data to train some models and make predictions. Initially, we will try to see how accurate we can get without using state-level polls as I think it will be interesting to see how well we can predict based only on state characteristics and the national mood (measured by generic ballot and presidential popularity. Additionally, omitting state-level polls will allow us to develop a useful baseline accuracy should we decide to add more polling data later. "
   ]
  },
  {
   "cell_type": "code",
   "execution_count": 170,
   "id": "eb89415c",
   "metadata": {},
   "outputs": [],
   "source": [
    "import pandas as pd\n",
    "import matplotlib.pyplot as plt\n",
    "import numpy as np\n",
    "pd.options.display.max_columns = None\n",
    "%matplotlib inline\n",
    "import datetime as dt"
   ]
  },
  {
   "cell_type": "markdown",
   "id": "fa493984",
   "metadata": {},
   "source": [
    "## Data"
   ]
  },
  {
   "cell_type": "code",
   "execution_count": 171,
   "id": "a272accc",
   "metadata": {},
   "outputs": [],
   "source": [
    "elections = pd.read_csv('combined_election_data.csv')"
   ]
  },
  {
   "cell_type": "code",
   "execution_count": 172,
   "id": "8d56c691",
   "metadata": {},
   "outputs": [
    {
     "data": {
      "text/html": [
       "<div>\n",
       "<style scoped>\n",
       "    .dataframe tbody tr th:only-of-type {\n",
       "        vertical-align: middle;\n",
       "    }\n",
       "\n",
       "    .dataframe tbody tr th {\n",
       "        vertical-align: top;\n",
       "    }\n",
       "\n",
       "    .dataframe thead th {\n",
       "        text-align: right;\n",
       "    }\n",
       "</style>\n",
       "<table border=\"1\" class=\"dataframe\">\n",
       "  <thead>\n",
       "    <tr style=\"text-align: right;\">\n",
       "      <th></th>\n",
       "      <th>state</th>\n",
       "      <th>year</th>\n",
       "      <th>partisan_score</th>\n",
       "      <th>old_score_avg</th>\n",
       "      <th>generic_ballot</th>\n",
       "      <th>pres_approval</th>\n",
       "      <th>dem_pres</th>\n",
       "      <th>pres_approval_int</th>\n",
       "      <th>unemployment_rate</th>\n",
       "      <th>unemp_rate_int</th>\n",
       "      <th>native_amer_perc</th>\n",
       "      <th>asian_perc</th>\n",
       "      <th>black_perc</th>\n",
       "    </tr>\n",
       "  </thead>\n",
       "  <tbody>\n",
       "    <tr>\n",
       "      <th>0</th>\n",
       "      <td>ALABAMA</td>\n",
       "      <td>2008</td>\n",
       "      <td>-0.268418</td>\n",
       "      <td>-0.269701</td>\n",
       "      <td>0.1</td>\n",
       "      <td>-0.422</td>\n",
       "      <td>0</td>\n",
       "      <td>-0.0</td>\n",
       "      <td>0.057</td>\n",
       "      <td>0.0</td>\n",
       "      <td>0.007104</td>\n",
       "      <td>0.012499</td>\n",
       "      <td>0.266876</td>\n",
       "    </tr>\n",
       "    <tr>\n",
       "      <th>1</th>\n",
       "      <td>ALASKA</td>\n",
       "      <td>2008</td>\n",
       "      <td>0.012442</td>\n",
       "      <td>-0.030323</td>\n",
       "      <td>0.1</td>\n",
       "      <td>-0.422</td>\n",
       "      <td>0</td>\n",
       "      <td>-0.0</td>\n",
       "      <td>0.067</td>\n",
       "      <td>0.0</td>\n",
       "      <td>0.170740</td>\n",
       "      <td>0.066970</td>\n",
       "      <td>0.043748</td>\n",
       "    </tr>\n",
       "    <tr>\n",
       "      <th>2</th>\n",
       "      <td>COLORADO</td>\n",
       "      <td>2008</td>\n",
       "      <td>0.103035</td>\n",
       "      <td>-0.000784</td>\n",
       "      <td>0.1</td>\n",
       "      <td>-0.422</td>\n",
       "      <td>0</td>\n",
       "      <td>-0.0</td>\n",
       "      <td>0.048</td>\n",
       "      <td>0.0</td>\n",
       "      <td>0.017203</td>\n",
       "      <td>0.032577</td>\n",
       "      <td>0.047404</td>\n",
       "    </tr>\n",
       "    <tr>\n",
       "      <th>3</th>\n",
       "      <td>DELAWARE</td>\n",
       "      <td>2008</td>\n",
       "      <td>0.293730</td>\n",
       "      <td>0.294580</td>\n",
       "      <td>0.1</td>\n",
       "      <td>-0.422</td>\n",
       "      <td>0</td>\n",
       "      <td>-0.0</td>\n",
       "      <td>0.049</td>\n",
       "      <td>0.0</td>\n",
       "      <td>0.006676</td>\n",
       "      <td>0.033771</td>\n",
       "      <td>0.223802</td>\n",
       "    </tr>\n",
       "    <tr>\n",
       "      <th>4</th>\n",
       "      <td>GEORGIA</td>\n",
       "      <td>2008</td>\n",
       "      <td>-0.089013</td>\n",
       "      <td>-0.123685</td>\n",
       "      <td>0.1</td>\n",
       "      <td>-0.422</td>\n",
       "      <td>0</td>\n",
       "      <td>-0.0</td>\n",
       "      <td>0.062</td>\n",
       "      <td>0.0</td>\n",
       "      <td>0.005107</td>\n",
       "      <td>0.034483</td>\n",
       "      <td>0.311697</td>\n",
       "    </tr>\n",
       "  </tbody>\n",
       "</table>\n",
       "</div>"
      ],
      "text/plain": [
       "      state  year  partisan_score  old_score_avg  generic_ballot  \\\n",
       "0   ALABAMA  2008       -0.268418      -0.269701             0.1   \n",
       "1    ALASKA  2008        0.012442      -0.030323             0.1   \n",
       "2  COLORADO  2008        0.103035      -0.000784             0.1   \n",
       "3  DELAWARE  2008        0.293730       0.294580             0.1   \n",
       "4   GEORGIA  2008       -0.089013      -0.123685             0.1   \n",
       "\n",
       "   pres_approval  dem_pres  pres_approval_int  unemployment_rate  \\\n",
       "0         -0.422         0               -0.0              0.057   \n",
       "1         -0.422         0               -0.0              0.067   \n",
       "2         -0.422         0               -0.0              0.048   \n",
       "3         -0.422         0               -0.0              0.049   \n",
       "4         -0.422         0               -0.0              0.062   \n",
       "\n",
       "   unemp_rate_int  native_amer_perc  asian_perc  black_perc  \n",
       "0             0.0          0.007104    0.012499    0.266876  \n",
       "1             0.0          0.170740    0.066970    0.043748  \n",
       "2             0.0          0.017203    0.032577    0.047404  \n",
       "3             0.0          0.006676    0.033771    0.223802  \n",
       "4             0.0          0.005107    0.034483    0.311697  "
      ]
     },
     "execution_count": 172,
     "metadata": {},
     "output_type": "execute_result"
    }
   ],
   "source": [
    "elections.head()"
   ]
  },
  {
   "cell_type": "code",
   "execution_count": 173,
   "id": "afca41f9",
   "metadata": {},
   "outputs": [
    {
     "data": {
      "text/plain": [
       "(218, 13)"
      ]
     },
     "execution_count": 173,
     "metadata": {},
     "output_type": "execute_result"
    }
   ],
   "source": [
    "elections.shape"
   ]
  },
  {
   "cell_type": "code",
   "execution_count": 174,
   "id": "4441494c",
   "metadata": {},
   "outputs": [
    {
     "name": "stdout",
     "output_type": "stream",
     "text": [
      "<class 'pandas.core.frame.DataFrame'>\n",
      "RangeIndex: 218 entries, 0 to 217\n",
      "Data columns (total 13 columns):\n",
      " #   Column             Non-Null Count  Dtype  \n",
      "---  ------             --------------  -----  \n",
      " 0   state              218 non-null    object \n",
      " 1   year               218 non-null    int64  \n",
      " 2   partisan_score     218 non-null    float64\n",
      " 3   old_score_avg      218 non-null    float64\n",
      " 4   generic_ballot     218 non-null    float64\n",
      " 5   pres_approval      218 non-null    float64\n",
      " 6   dem_pres           218 non-null    int64  \n",
      " 7   pres_approval_int  218 non-null    float64\n",
      " 8   unemployment_rate  218 non-null    float64\n",
      " 9   unemp_rate_int     218 non-null    float64\n",
      " 10  native_amer_perc   218 non-null    float64\n",
      " 11  asian_perc         218 non-null    float64\n",
      " 12  black_perc         218 non-null    float64\n",
      "dtypes: float64(10), int64(2), object(1)\n",
      "memory usage: 22.3+ KB\n"
     ]
    }
   ],
   "source": [
    "elections.info()"
   ]
  },
  {
   "cell_type": "markdown",
   "id": "d579ab52",
   "metadata": {},
   "source": [
    "## Dividing the Data into Train and Test Sets"
   ]
  },
  {
   "cell_type": "markdown",
   "id": "309b97dc",
   "metadata": {},
   "source": [
    "We first divide the data into a training set with 80% of the rows, and a testing set with the remaining 20%. "
   ]
  },
  {
   "cell_type": "code",
   "execution_count": 175,
   "id": "ca19ff02",
   "metadata": {},
   "outputs": [],
   "source": [
    "train = elections.sample(frac=.8, random_state=1)\n",
    "test = elections.loc[~elections.index.isin(train.index)]"
   ]
  },
  {
   "cell_type": "code",
   "execution_count": 176,
   "id": "43602d70",
   "metadata": {},
   "outputs": [
    {
     "data": {
      "text/plain": [
       "(174, 13)"
      ]
     },
     "execution_count": 176,
     "metadata": {},
     "output_type": "execute_result"
    }
   ],
   "source": [
    "train.shape"
   ]
  },
  {
   "cell_type": "code",
   "execution_count": 177,
   "id": "ee08fd4f",
   "metadata": {},
   "outputs": [
    {
     "data": {
      "text/plain": [
       "(44, 13)"
      ]
     },
     "execution_count": 177,
     "metadata": {},
     "output_type": "execute_result"
    }
   ],
   "source": [
    "test.shape"
   ]
  },
  {
   "cell_type": "code",
   "execution_count": 178,
   "id": "aec04e30",
   "metadata": {},
   "outputs": [],
   "source": [
    "X = train.copy()\n",
    "X.drop(['state', 'year', 'partisan_score'], axis=1, inplace=True)\n",
    "y = train['partisan_score']"
   ]
  },
  {
   "cell_type": "markdown",
   "id": "bd60c974",
   "metadata": {},
   "source": [
    "## Linear Regression"
   ]
  },
  {
   "cell_type": "code",
   "execution_count": 179,
   "id": "97c0543b",
   "metadata": {},
   "outputs": [],
   "source": [
    "from sklearn.model_selection import cross_val_score\n",
    "from sklearn.linear_model import LinearRegression\n",
    "from sklearn.model_selection import KFold\n",
    "from sklearn.metrics import mean_squared_error\n",
    "from sklearn.feature_selection import RFECV"
   ]
  },
  {
   "cell_type": "code",
   "execution_count": 180,
   "id": "b31157a6",
   "metadata": {},
   "outputs": [],
   "source": [
    "def get_cross_val_score(model, features):\n",
    "    kf = KFold(n_splits=3, shuffle=True, random_state=1)\n",
    "    scores = cross_val_score(model, features, y, scoring='neg_mean_squared_error', cv=kf)\n",
    "    return scores.mean()"
   ]
  },
  {
   "cell_type": "code",
   "execution_count": 181,
   "id": "57edc13a",
   "metadata": {},
   "outputs": [
    {
     "data": {
      "text/plain": [
       "-0.0227495428875895"
      ]
     },
     "execution_count": 181,
     "metadata": {},
     "output_type": "execute_result"
    }
   ],
   "source": [
    "get_cross_val_score(LinearRegression(), X)"
   ]
  },
  {
   "cell_type": "code",
   "execution_count": 182,
   "id": "ae88e94b",
   "metadata": {},
   "outputs": [],
   "source": [
    "def select_features(model):\n",
    "    selector = RFECV(model, cv=3)\n",
    "    selector.fit(X, y)\n",
    "    features = X.columns[selector.support_]\n",
    "    return features"
   ]
  },
  {
   "cell_type": "code",
   "execution_count": 188,
   "id": "b11e8121",
   "metadata": {},
   "outputs": [],
   "source": [
    "features = select_features(LinearRegression())"
   ]
  },
  {
   "cell_type": "code",
   "execution_count": 189,
   "id": "45b6388d",
   "metadata": {},
   "outputs": [
    {
     "data": {
      "text/plain": [
       "Index(['old_score_avg', 'generic_ballot', 'unemp_rate_int', 'native_amer_perc',\n",
       "       'asian_perc'],\n",
       "      dtype='object')"
      ]
     },
     "execution_count": 189,
     "metadata": {},
     "output_type": "execute_result"
    }
   ],
   "source": [
    "features"
   ]
  },
  {
   "cell_type": "code",
   "execution_count": 186,
   "id": "ef2fb078",
   "metadata": {},
   "outputs": [
    {
     "ename": "TypeError",
     "evalue": "_get_tags() missing 1 required positional argument: 'self'",
     "output_type": "error",
     "traceback": [
      "\u001b[0;31m---------------------------------------------------------------------------\u001b[0m",
      "\u001b[0;31mTypeError\u001b[0m                                 Traceback (most recent call last)",
      "\u001b[0;32m/tmp/ipykernel_360046/3163665721.py\u001b[0m in \u001b[0;36m<module>\u001b[0;34m\u001b[0m\n\u001b[0;32m----> 1\u001b[0;31m \u001b[0mget_cross_val_score\u001b[0m\u001b[0;34m(\u001b[0m\u001b[0mLinearRegression\u001b[0m\u001b[0;34m(\u001b[0m\u001b[0;34m)\u001b[0m\u001b[0;34m,\u001b[0m\u001b[0mX\u001b[0m\u001b[0;34m[\u001b[0m\u001b[0mselect_features\u001b[0m\u001b[0;34m(\u001b[0m\u001b[0mLinearRegression\u001b[0m\u001b[0;34m)\u001b[0m\u001b[0;34m]\u001b[0m\u001b[0;34m)\u001b[0m\u001b[0;34m\u001b[0m\u001b[0;34m\u001b[0m\u001b[0m\n\u001b[0m",
      "\u001b[0;32m/tmp/ipykernel_360046/1428133550.py\u001b[0m in \u001b[0;36mselect_features\u001b[0;34m(model)\u001b[0m\n\u001b[1;32m      1\u001b[0m \u001b[0;32mdef\u001b[0m \u001b[0mselect_features\u001b[0m\u001b[0;34m(\u001b[0m\u001b[0mmodel\u001b[0m\u001b[0;34m)\u001b[0m\u001b[0;34m:\u001b[0m\u001b[0;34m\u001b[0m\u001b[0;34m\u001b[0m\u001b[0m\n\u001b[1;32m      2\u001b[0m     \u001b[0mselector\u001b[0m \u001b[0;34m=\u001b[0m \u001b[0mRFECV\u001b[0m\u001b[0;34m(\u001b[0m\u001b[0mmodel\u001b[0m\u001b[0;34m,\u001b[0m \u001b[0mcv\u001b[0m\u001b[0;34m=\u001b[0m\u001b[0;36m3\u001b[0m\u001b[0;34m)\u001b[0m\u001b[0;34m\u001b[0m\u001b[0;34m\u001b[0m\u001b[0m\n\u001b[0;32m----> 3\u001b[0;31m     \u001b[0mselector\u001b[0m\u001b[0;34m.\u001b[0m\u001b[0mfit\u001b[0m\u001b[0;34m(\u001b[0m\u001b[0mX\u001b[0m\u001b[0;34m,\u001b[0m \u001b[0my\u001b[0m\u001b[0;34m)\u001b[0m\u001b[0;34m\u001b[0m\u001b[0;34m\u001b[0m\u001b[0m\n\u001b[0m\u001b[1;32m      4\u001b[0m     \u001b[0mfeatures\u001b[0m \u001b[0;34m=\u001b[0m \u001b[0mX\u001b[0m\u001b[0;34m.\u001b[0m\u001b[0mcolumns\u001b[0m\u001b[0;34m[\u001b[0m\u001b[0mselector\u001b[0m\u001b[0;34m.\u001b[0m\u001b[0msupport_\u001b[0m\u001b[0;34m]\u001b[0m\u001b[0;34m\u001b[0m\u001b[0;34m\u001b[0m\u001b[0m\n\u001b[1;32m      5\u001b[0m     \u001b[0;32mreturn\u001b[0m \u001b[0mfeatures\u001b[0m\u001b[0;34m\u001b[0m\u001b[0;34m\u001b[0m\u001b[0m\n",
      "\u001b[0;32m~/anaconda3/lib/python3.9/site-packages/sklearn/feature_selection/_rfe.py\u001b[0m in \u001b[0;36mfit\u001b[0;34m(self, X, y, groups)\u001b[0m\n\u001b[1;32m    658\u001b[0m             \u001b[0mFitted\u001b[0m \u001b[0mestimator\u001b[0m\u001b[0;34m.\u001b[0m\u001b[0;34m\u001b[0m\u001b[0;34m\u001b[0m\u001b[0m\n\u001b[1;32m    659\u001b[0m         \"\"\"\n\u001b[0;32m--> 660\u001b[0;31m         \u001b[0mtags\u001b[0m \u001b[0;34m=\u001b[0m \u001b[0mself\u001b[0m\u001b[0;34m.\u001b[0m\u001b[0m_get_tags\u001b[0m\u001b[0;34m(\u001b[0m\u001b[0;34m)\u001b[0m\u001b[0;34m\u001b[0m\u001b[0;34m\u001b[0m\u001b[0m\n\u001b[0m\u001b[1;32m    661\u001b[0m         X, y = self._validate_data(\n\u001b[1;32m    662\u001b[0m             \u001b[0mX\u001b[0m\u001b[0;34m,\u001b[0m\u001b[0;34m\u001b[0m\u001b[0;34m\u001b[0m\u001b[0m\n",
      "\u001b[0;32m~/anaconda3/lib/python3.9/site-packages/sklearn/base.py\u001b[0m in \u001b[0;36m_get_tags\u001b[0;34m(self)\u001b[0m\n\u001b[1;32m    353\u001b[0m                 \u001b[0;31m# but might do redundant work in estimators\u001b[0m\u001b[0;34m\u001b[0m\u001b[0;34m\u001b[0m\u001b[0m\n\u001b[1;32m    354\u001b[0m                 \u001b[0;31m# (i.e. calling more tags on BaseEstimator multiple times)\u001b[0m\u001b[0;34m\u001b[0m\u001b[0;34m\u001b[0m\u001b[0m\n\u001b[0;32m--> 355\u001b[0;31m                 \u001b[0mmore_tags\u001b[0m \u001b[0;34m=\u001b[0m \u001b[0mbase_class\u001b[0m\u001b[0;34m.\u001b[0m\u001b[0m_more_tags\u001b[0m\u001b[0;34m(\u001b[0m\u001b[0mself\u001b[0m\u001b[0;34m)\u001b[0m\u001b[0;34m\u001b[0m\u001b[0;34m\u001b[0m\u001b[0m\n\u001b[0m\u001b[1;32m    356\u001b[0m                 \u001b[0mcollected_tags\u001b[0m\u001b[0;34m.\u001b[0m\u001b[0mupdate\u001b[0m\u001b[0;34m(\u001b[0m\u001b[0mmore_tags\u001b[0m\u001b[0;34m)\u001b[0m\u001b[0;34m\u001b[0m\u001b[0;34m\u001b[0m\u001b[0m\n\u001b[1;32m    357\u001b[0m         \u001b[0;32mreturn\u001b[0m \u001b[0mcollected_tags\u001b[0m\u001b[0;34m\u001b[0m\u001b[0;34m\u001b[0m\u001b[0m\n",
      "\u001b[0;32m~/anaconda3/lib/python3.9/site-packages/sklearn/feature_selection/_rfe.py\u001b[0m in \u001b[0;36m_more_tags\u001b[0;34m(self)\u001b[0m\n\u001b[1;32m    430\u001b[0m         return {\n\u001b[1;32m    431\u001b[0m             \u001b[0;34m\"poor_score\"\u001b[0m\u001b[0;34m:\u001b[0m \u001b[0;32mTrue\u001b[0m\u001b[0;34m,\u001b[0m\u001b[0;34m\u001b[0m\u001b[0;34m\u001b[0m\u001b[0m\n\u001b[0;32m--> 432\u001b[0;31m             \u001b[0;34m\"allow_nan\"\u001b[0m\u001b[0;34m:\u001b[0m \u001b[0m_safe_tags\u001b[0m\u001b[0;34m(\u001b[0m\u001b[0mself\u001b[0m\u001b[0;34m.\u001b[0m\u001b[0mestimator\u001b[0m\u001b[0;34m,\u001b[0m \u001b[0mkey\u001b[0m\u001b[0;34m=\u001b[0m\u001b[0;34m\"allow_nan\"\u001b[0m\u001b[0;34m)\u001b[0m\u001b[0;34m,\u001b[0m\u001b[0;34m\u001b[0m\u001b[0;34m\u001b[0m\u001b[0m\n\u001b[0m\u001b[1;32m    433\u001b[0m             \u001b[0;34m\"requires_y\"\u001b[0m\u001b[0;34m:\u001b[0m \u001b[0;32mTrue\u001b[0m\u001b[0;34m,\u001b[0m\u001b[0;34m\u001b[0m\u001b[0;34m\u001b[0m\u001b[0m\n\u001b[1;32m    434\u001b[0m         }\n",
      "\u001b[0;32m~/anaconda3/lib/python3.9/site-packages/sklearn/utils/_tags.py\u001b[0m in \u001b[0;36m_safe_tags\u001b[0;34m(estimator, key)\u001b[0m\n\u001b[1;32m     50\u001b[0m     \u001b[0;32mif\u001b[0m \u001b[0mhasattr\u001b[0m\u001b[0;34m(\u001b[0m\u001b[0mestimator\u001b[0m\u001b[0;34m,\u001b[0m \u001b[0;34m\"_get_tags\"\u001b[0m\u001b[0;34m)\u001b[0m\u001b[0;34m:\u001b[0m\u001b[0;34m\u001b[0m\u001b[0;34m\u001b[0m\u001b[0m\n\u001b[1;32m     51\u001b[0m         \u001b[0mtags_provider\u001b[0m \u001b[0;34m=\u001b[0m \u001b[0;34m\"_get_tags()\"\u001b[0m\u001b[0;34m\u001b[0m\u001b[0;34m\u001b[0m\u001b[0m\n\u001b[0;32m---> 52\u001b[0;31m         \u001b[0mtags\u001b[0m \u001b[0;34m=\u001b[0m \u001b[0mestimator\u001b[0m\u001b[0;34m.\u001b[0m\u001b[0m_get_tags\u001b[0m\u001b[0;34m(\u001b[0m\u001b[0;34m)\u001b[0m\u001b[0;34m\u001b[0m\u001b[0;34m\u001b[0m\u001b[0m\n\u001b[0m\u001b[1;32m     53\u001b[0m     \u001b[0;32melif\u001b[0m \u001b[0mhasattr\u001b[0m\u001b[0;34m(\u001b[0m\u001b[0mestimator\u001b[0m\u001b[0;34m,\u001b[0m \u001b[0;34m\"_more_tags\"\u001b[0m\u001b[0;34m)\u001b[0m\u001b[0;34m:\u001b[0m\u001b[0;34m\u001b[0m\u001b[0;34m\u001b[0m\u001b[0m\n\u001b[1;32m     54\u001b[0m         \u001b[0mtags_provider\u001b[0m \u001b[0;34m=\u001b[0m \u001b[0;34m\"_more_tags()\"\u001b[0m\u001b[0;34m\u001b[0m\u001b[0;34m\u001b[0m\u001b[0m\n",
      "\u001b[0;31mTypeError\u001b[0m: _get_tags() missing 1 required positional argument: 'self'"
     ]
    }
   ],
   "source": [
    "get_cross_val_score(LinearRegression(),X[select_features(LinearRegression)])"
   ]
  },
  {
   "cell_type": "markdown",
   "id": "16bbd18c",
   "metadata": {},
   "source": [
    "## K-Nearest Neighbors"
   ]
  },
  {
   "cell_type": "code",
   "execution_count": null,
   "id": "6f717fa8",
   "metadata": {},
   "outputs": [],
   "source": [
    "from sklearn.neighbors import KNeighborsRegressor"
   ]
  },
  {
   "cell_type": "code",
   "execution_count": null,
   "id": "bb21b656",
   "metadata": {},
   "outputs": [],
   "source": [
    "kn = KNeighborsRegressor()\n",
    "get_cross_val_score(kn, X)"
   ]
  },
  {
   "cell_type": "code",
   "execution_count": null,
   "id": "45713bfe",
   "metadata": {},
   "outputs": [],
   "source": [
    "for n in range(1, 20):\n",
    "    print(n, get_cross_val_score(KNeighborsRegressor(n_neighbors=n), X))"
   ]
  },
  {
   "cell_type": "code",
   "execution_count": null,
   "id": "f19dac69",
   "metadata": {},
   "outputs": [],
   "source": [
    "get_cross_val_score(KNeighborsRegressor(n_neighbors=10), X)"
   ]
  },
  {
   "cell_type": "markdown",
   "id": "32a863ef",
   "metadata": {},
   "source": [
    "## Lasso Regression"
   ]
  },
  {
   "cell_type": "code",
   "execution_count": null,
   "id": "29b24d45",
   "metadata": {},
   "outputs": [],
   "source": [
    "from sklearn.linear_model import Lasso"
   ]
  },
  {
   "cell_type": "code",
   "execution_count": null,
   "id": "6a09b1d4",
   "metadata": {},
   "outputs": [],
   "source": [
    "lasso = Lasso(random_state=1)\n",
    "get_cross_val_score(lasso, X)"
   ]
  },
  {
   "cell_type": "markdown",
   "id": "2ad80f60",
   "metadata": {},
   "source": [
    "## Random Forest"
   ]
  },
  {
   "cell_type": "code",
   "execution_count": null,
   "id": "ccd4a9ce",
   "metadata": {},
   "outputs": [],
   "source": [
    "from sklearn.ensemble import RandomForestRegressor\n",
    "from sklearn.model_selection import GridSearchCV"
   ]
  },
  {
   "cell_type": "code",
   "execution_count": null,
   "id": "7fb4ce15",
   "metadata": {},
   "outputs": [],
   "source": [
    "rf_features = select_features(RandomForestRegressor(random_state=1))"
   ]
  },
  {
   "cell_type": "code",
   "execution_count": null,
   "id": "f9683ae1",
   "metadata": {},
   "outputs": [],
   "source": [
    "rf_features"
   ]
  },
  {
   "cell_type": "code",
   "execution_count": null,
   "id": "eb05a996",
   "metadata": {},
   "outputs": [],
   "source": [
    "searcher = GridSearchCV(RandomForestRegressor(), param_grid={\"n_estimators\": [4, 6, 9],\n",
    "            \"max_depth\": [2, 5, 10],\n",
    "            \"max_features\": [.5, .8, 1],\n",
    "            \"min_samples_leaf\": [1, 5, 8],\n",
    "            \"min_samples_split\": [2, 3, 5]}, cv=4)\n",
    "searcher.fit(X, y)\n",
    "rf_best_estimator = searcher.best_estimator_\n",
    "rf_best_params = searcher.best_params_"
   ]
  },
  {
   "cell_type": "code",
   "execution_count": null,
   "id": "079be4ed",
   "metadata": {},
   "outputs": [],
   "source": [
    "rf_best_estimator"
   ]
  },
  {
   "cell_type": "code",
   "execution_count": null,
   "id": "f9b51732",
   "metadata": {},
   "outputs": [],
   "source": [
    "rf_best_params"
   ]
  },
  {
   "cell_type": "code",
   "execution_count": null,
   "id": "f7c74e21",
   "metadata": {},
   "outputs": [],
   "source": [
    "get_cross_val_score(rf_best_estimator, X[rf_features])"
   ]
  },
  {
   "cell_type": "markdown",
   "id": "c410dc23",
   "metadata": {},
   "source": [
    "## Final Predictions"
   ]
  },
  {
   "cell_type": "code",
   "execution_count": null,
   "id": "145ac189",
   "metadata": {},
   "outputs": [],
   "source": [
    "def get_final_predictions(model, features):\n",
    "    model.fit(features, y)\n",
    "    predictions = model.predict(test[features.columns])\n",
    "    rmse = mean_squared_error(test['partisan_score'], predictions, squared=False)\n",
    "    return rmse"
   ]
  },
  {
   "cell_type": "code",
   "execution_count": null,
   "id": "ba71c5d4",
   "metadata": {},
   "outputs": [],
   "source": [
    "get_final_predictions(LinearRegression(), X)"
   ]
  },
  {
   "cell_type": "code",
   "execution_count": null,
   "id": "549a7d89",
   "metadata": {},
   "outputs": [],
   "source": [
    "get_final_predictions(KNeighborsRegressor(n_neighbors=10), X)"
   ]
  },
  {
   "cell_type": "code",
   "execution_count": null,
   "id": "d758d1a7",
   "metadata": {},
   "outputs": [],
   "source": [
    "get_final_predictions(rf_best_estimator, X[rf_features])"
   ]
  },
  {
   "cell_type": "code",
   "execution_count": null,
   "id": "422ae15c",
   "metadata": {},
   "outputs": [],
   "source": [
    "get_final_predictions(LinearRegression(), X[features])"
   ]
  },
  {
   "cell_type": "code",
   "execution_count": null,
   "id": "130fdba0",
   "metadata": {},
   "outputs": [],
   "source": [
    "test['predict_vals'] = predictions"
   ]
  },
  {
   "cell_type": "code",
   "execution_count": null,
   "id": "e557dbfe",
   "metadata": {},
   "outputs": [],
   "source": [
    "test[['state','year','partisan_score', 'predict_vals']]"
   ]
  },
  {
   "cell_type": "code",
   "execution_count": null,
   "id": "4e751a57",
   "metadata": {},
   "outputs": [],
   "source": [
    "abs(test['predict_vals'] - test['partisan_score']).mean()"
   ]
  },
  {
   "cell_type": "markdown",
   "id": "a14a6222",
   "metadata": {},
   "source": [
    "Above, we see that our final model was off by around 9 percentage points on average. Clearly, our model could be improved. "
   ]
  },
  {
   "cell_type": "markdown",
   "id": "ec3004f5",
   "metadata": {},
   "source": [
    "## Comparison with Baseline Estimate"
   ]
  },
  {
   "cell_type": "markdown",
   "id": "b5e96946",
   "metadata": {},
   "source": [
    "Here, we will compare our model with the baseline estimate, which is the old score average added to the generic ballot. "
   ]
  },
  {
   "cell_type": "code",
   "execution_count": null,
   "id": "de2ba9df",
   "metadata": {},
   "outputs": [],
   "source": [
    "compare_df = elections.copy()"
   ]
  },
  {
   "cell_type": "code",
   "execution_count": null,
   "id": "12d05cd0",
   "metadata": {},
   "outputs": [],
   "source": [
    "compare_df['baseline_estimate'] = compare_df['old_score_avg'] + compare_df['generic_ballot']"
   ]
  },
  {
   "cell_type": "code",
   "execution_count": null,
   "id": "7af5bb6f",
   "metadata": {},
   "outputs": [],
   "source": [
    "abs(compare_df['baseline_estimate'] - compare_df['partisan_score']).mean()"
   ]
  },
  {
   "cell_type": "markdown",
   "id": "e990a798",
   "metadata": {},
   "source": [
    "Our baseline estimate was off by around 10.5 percentage points, so our linear regression model represents a slight improvement. "
   ]
  }
 ],
 "metadata": {
  "kernelspec": {
   "display_name": "Python 3 (ipykernel)",
   "language": "python",
   "name": "python3"
  },
  "language_info": {
   "codemirror_mode": {
    "name": "ipython",
    "version": 3
   },
   "file_extension": ".py",
   "mimetype": "text/x-python",
   "name": "python",
   "nbconvert_exporter": "python",
   "pygments_lexer": "ipython3",
   "version": "3.9.12"
  }
 },
 "nbformat": 4,
 "nbformat_minor": 5
}
