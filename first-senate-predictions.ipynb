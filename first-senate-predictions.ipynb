{
 "cells": [
  {
   "cell_type": "markdown",
   "id": "1b8823bd",
   "metadata": {},
   "source": [
    "# First Senate Predictions\n",
    "\n",
    "After cleaning the data (in data-cleaning.ipynb), we will now try to use the data to train some models and make predictions. Initially, we will try to see how accurate we can get without using state-level polls as I think it will be interesting to see how well we can predict based only on state characteristics and the national mood (measured by generic ballot and presidential popularity. Additionally, omitting state-level polls will allow us to develop a useful baseline accuracy should we decide to add more polling data later. "
   ]
  },
  {
   "cell_type": "code",
   "execution_count": 191,
   "id": "eb89415c",
   "metadata": {},
   "outputs": [],
   "source": [
    "import pandas as pd\n",
    "import matplotlib.pyplot as plt\n",
    "import numpy as np\n",
    "pd.options.display.max_columns = None\n",
    "%matplotlib inline\n",
    "import datetime as dt"
   ]
  },
  {
   "cell_type": "markdown",
   "id": "fa493984",
   "metadata": {},
   "source": [
    "## Data"
   ]
  },
  {
   "cell_type": "code",
   "execution_count": 192,
   "id": "a272accc",
   "metadata": {},
   "outputs": [],
   "source": [
    "elections = pd.read_csv('combined_election_data.csv')"
   ]
  },
  {
   "cell_type": "code",
   "execution_count": 193,
   "id": "8d56c691",
   "metadata": {},
   "outputs": [
    {
     "data": {
      "text/html": [
       "<div>\n",
       "<style scoped>\n",
       "    .dataframe tbody tr th:only-of-type {\n",
       "        vertical-align: middle;\n",
       "    }\n",
       "\n",
       "    .dataframe tbody tr th {\n",
       "        vertical-align: top;\n",
       "    }\n",
       "\n",
       "    .dataframe thead th {\n",
       "        text-align: right;\n",
       "    }\n",
       "</style>\n",
       "<table border=\"1\" class=\"dataframe\">\n",
       "  <thead>\n",
       "    <tr style=\"text-align: right;\">\n",
       "      <th></th>\n",
       "      <th>state</th>\n",
       "      <th>year</th>\n",
       "      <th>partisan_score</th>\n",
       "      <th>old_score_avg</th>\n",
       "      <th>generic_ballot</th>\n",
       "      <th>pres_approval</th>\n",
       "      <th>dem_pres</th>\n",
       "      <th>pres_approval_int</th>\n",
       "      <th>unemployment_rate</th>\n",
       "      <th>unemp_rate_int</th>\n",
       "      <th>native_amer_perc</th>\n",
       "      <th>asian_perc</th>\n",
       "      <th>black_perc</th>\n",
       "    </tr>\n",
       "  </thead>\n",
       "  <tbody>\n",
       "    <tr>\n",
       "      <th>0</th>\n",
       "      <td>ALABAMA</td>\n",
       "      <td>2008</td>\n",
       "      <td>-0.268418</td>\n",
       "      <td>-0.269701</td>\n",
       "      <td>0.1</td>\n",
       "      <td>-0.422</td>\n",
       "      <td>0</td>\n",
       "      <td>-0.0</td>\n",
       "      <td>0.057</td>\n",
       "      <td>0.0</td>\n",
       "      <td>0.007104</td>\n",
       "      <td>0.012499</td>\n",
       "      <td>0.266876</td>\n",
       "    </tr>\n",
       "    <tr>\n",
       "      <th>1</th>\n",
       "      <td>ALASKA</td>\n",
       "      <td>2008</td>\n",
       "      <td>0.012442</td>\n",
       "      <td>-0.030323</td>\n",
       "      <td>0.1</td>\n",
       "      <td>-0.422</td>\n",
       "      <td>0</td>\n",
       "      <td>-0.0</td>\n",
       "      <td>0.067</td>\n",
       "      <td>0.0</td>\n",
       "      <td>0.170740</td>\n",
       "      <td>0.066970</td>\n",
       "      <td>0.043748</td>\n",
       "    </tr>\n",
       "    <tr>\n",
       "      <th>2</th>\n",
       "      <td>COLORADO</td>\n",
       "      <td>2008</td>\n",
       "      <td>0.103035</td>\n",
       "      <td>-0.000784</td>\n",
       "      <td>0.1</td>\n",
       "      <td>-0.422</td>\n",
       "      <td>0</td>\n",
       "      <td>-0.0</td>\n",
       "      <td>0.048</td>\n",
       "      <td>0.0</td>\n",
       "      <td>0.017203</td>\n",
       "      <td>0.032577</td>\n",
       "      <td>0.047404</td>\n",
       "    </tr>\n",
       "    <tr>\n",
       "      <th>3</th>\n",
       "      <td>DELAWARE</td>\n",
       "      <td>2008</td>\n",
       "      <td>0.293730</td>\n",
       "      <td>0.294580</td>\n",
       "      <td>0.1</td>\n",
       "      <td>-0.422</td>\n",
       "      <td>0</td>\n",
       "      <td>-0.0</td>\n",
       "      <td>0.049</td>\n",
       "      <td>0.0</td>\n",
       "      <td>0.006676</td>\n",
       "      <td>0.033771</td>\n",
       "      <td>0.223802</td>\n",
       "    </tr>\n",
       "    <tr>\n",
       "      <th>4</th>\n",
       "      <td>GEORGIA</td>\n",
       "      <td>2008</td>\n",
       "      <td>-0.089013</td>\n",
       "      <td>-0.123685</td>\n",
       "      <td>0.1</td>\n",
       "      <td>-0.422</td>\n",
       "      <td>0</td>\n",
       "      <td>-0.0</td>\n",
       "      <td>0.062</td>\n",
       "      <td>0.0</td>\n",
       "      <td>0.005107</td>\n",
       "      <td>0.034483</td>\n",
       "      <td>0.311697</td>\n",
       "    </tr>\n",
       "  </tbody>\n",
       "</table>\n",
       "</div>"
      ],
      "text/plain": [
       "      state  year  partisan_score  old_score_avg  generic_ballot  \\\n",
       "0   ALABAMA  2008       -0.268418      -0.269701             0.1   \n",
       "1    ALASKA  2008        0.012442      -0.030323             0.1   \n",
       "2  COLORADO  2008        0.103035      -0.000784             0.1   \n",
       "3  DELAWARE  2008        0.293730       0.294580             0.1   \n",
       "4   GEORGIA  2008       -0.089013      -0.123685             0.1   \n",
       "\n",
       "   pres_approval  dem_pres  pres_approval_int  unemployment_rate  \\\n",
       "0         -0.422         0               -0.0              0.057   \n",
       "1         -0.422         0               -0.0              0.067   \n",
       "2         -0.422         0               -0.0              0.048   \n",
       "3         -0.422         0               -0.0              0.049   \n",
       "4         -0.422         0               -0.0              0.062   \n",
       "\n",
       "   unemp_rate_int  native_amer_perc  asian_perc  black_perc  \n",
       "0             0.0          0.007104    0.012499    0.266876  \n",
       "1             0.0          0.170740    0.066970    0.043748  \n",
       "2             0.0          0.017203    0.032577    0.047404  \n",
       "3             0.0          0.006676    0.033771    0.223802  \n",
       "4             0.0          0.005107    0.034483    0.311697  "
      ]
     },
     "execution_count": 193,
     "metadata": {},
     "output_type": "execute_result"
    }
   ],
   "source": [
    "elections.head()"
   ]
  },
  {
   "cell_type": "code",
   "execution_count": 194,
   "id": "afca41f9",
   "metadata": {},
   "outputs": [
    {
     "data": {
      "text/plain": [
       "(218, 13)"
      ]
     },
     "execution_count": 194,
     "metadata": {},
     "output_type": "execute_result"
    }
   ],
   "source": [
    "elections.shape"
   ]
  },
  {
   "cell_type": "code",
   "execution_count": 195,
   "id": "4441494c",
   "metadata": {},
   "outputs": [
    {
     "name": "stdout",
     "output_type": "stream",
     "text": [
      "<class 'pandas.core.frame.DataFrame'>\n",
      "RangeIndex: 218 entries, 0 to 217\n",
      "Data columns (total 13 columns):\n",
      " #   Column             Non-Null Count  Dtype  \n",
      "---  ------             --------------  -----  \n",
      " 0   state              218 non-null    object \n",
      " 1   year               218 non-null    int64  \n",
      " 2   partisan_score     218 non-null    float64\n",
      " 3   old_score_avg      218 non-null    float64\n",
      " 4   generic_ballot     218 non-null    float64\n",
      " 5   pres_approval      218 non-null    float64\n",
      " 6   dem_pres           218 non-null    int64  \n",
      " 7   pres_approval_int  218 non-null    float64\n",
      " 8   unemployment_rate  218 non-null    float64\n",
      " 9   unemp_rate_int     218 non-null    float64\n",
      " 10  native_amer_perc   218 non-null    float64\n",
      " 11  asian_perc         218 non-null    float64\n",
      " 12  black_perc         218 non-null    float64\n",
      "dtypes: float64(10), int64(2), object(1)\n",
      "memory usage: 22.3+ KB\n"
     ]
    }
   ],
   "source": [
    "elections.info()"
   ]
  },
  {
   "cell_type": "markdown",
   "id": "d3cab59b",
   "metadata": {},
   "source": [
    "## Dividing the Data into Train and Test Sets"
   ]
  },
  {
   "cell_type": "markdown",
   "id": "751bc5e3",
   "metadata": {},
   "source": [
    "We first divide the data into a training set with 80% of the rows, and a testing set with the remaining 20%. "
   ]
  },
  {
   "cell_type": "code",
   "execution_count": 196,
   "id": "7d836796",
   "metadata": {},
   "outputs": [],
   "source": [
    "train = elections.sample(frac=.8, random_state=1)\n",
    "test = elections.loc[~elections.index.isin(train.index)]"
   ]
  },
  {
   "cell_type": "code",
   "execution_count": 197,
   "id": "95701aaa",
   "metadata": {},
   "outputs": [
    {
     "data": {
      "text/plain": [
       "(174, 13)"
      ]
     },
     "execution_count": 197,
     "metadata": {},
     "output_type": "execute_result"
    }
   ],
   "source": [
    "train.shape"
   ]
  },
  {
   "cell_type": "code",
   "execution_count": 198,
   "id": "0267449f",
   "metadata": {},
   "outputs": [
    {
     "data": {
      "text/plain": [
       "(44, 13)"
      ]
     },
     "execution_count": 198,
     "metadata": {},
     "output_type": "execute_result"
    }
   ],
   "source": [
    "test.shape"
   ]
  },
  {
   "cell_type": "code",
   "execution_count": 199,
   "id": "90cf5e6c",
   "metadata": {},
   "outputs": [],
   "source": [
    "X = train.copy()\n",
    "X.drop(['state', 'year', 'partisan_score'], axis=1, inplace=True)\n",
    "y = train['partisan_score']"
   ]
  },
  {
   "cell_type": "markdown",
   "id": "9b3fbea6",
   "metadata": {},
   "source": [
    "## Linear Regression"
   ]
  },
  {
   "cell_type": "code",
   "execution_count": 200,
   "id": "ecf979b1",
   "metadata": {},
   "outputs": [],
   "source": [
    "from sklearn.model_selection import cross_val_score\n",
    "from sklearn.linear_model import LinearRegression\n",
    "from sklearn.model_selection import KFold\n",
    "from sklearn.metrics import mean_squared_error\n",
    "from sklearn.feature_selection import RFECV"
   ]
  },
  {
   "cell_type": "code",
   "execution_count": 201,
   "id": "3d6c1055",
   "metadata": {},
   "outputs": [],
   "source": [
    "def get_cross_val_score(model, features):\n",
    "    kf = KFold(n_splits=3, shuffle=True, random_state=1)\n",
    "    scores = cross_val_score(model, features, y, scoring='neg_mean_squared_error', cv=kf)\n",
    "    return scores.mean()"
   ]
  },
  {
   "cell_type": "code",
   "execution_count": 202,
   "id": "d20d14fb",
   "metadata": {},
   "outputs": [
    {
     "data": {
      "text/plain": [
       "-0.0227495428875895"
      ]
     },
     "execution_count": 202,
     "metadata": {},
     "output_type": "execute_result"
    }
   ],
   "source": [
    "get_cross_val_score(LinearRegression(), X)"
   ]
  },
  {
   "cell_type": "code",
   "execution_count": 203,
   "id": "c28f7f68",
   "metadata": {},
   "outputs": [],
   "source": [
    "def select_features(model):\n",
    "    selector = RFECV(model, cv=3)\n",
    "    selector.fit(X, y)\n",
    "    features = X.columns[selector.support_]\n",
    "    return features"
   ]
  },
  {
   "cell_type": "code",
   "execution_count": 204,
   "id": "ba0247f8",
   "metadata": {},
   "outputs": [],
   "source": [
    "features = select_features(LinearRegression())"
   ]
  },
  {
   "cell_type": "code",
   "execution_count": 205,
   "id": "9074a475",
   "metadata": {},
   "outputs": [
    {
     "data": {
      "text/plain": [
       "Index(['old_score_avg', 'generic_ballot', 'unemp_rate_int', 'native_amer_perc',\n",
       "       'asian_perc'],\n",
       "      dtype='object')"
      ]
     },
     "execution_count": 205,
     "metadata": {},
     "output_type": "execute_result"
    }
   ],
   "source": [
    "features"
   ]
  },
  {
   "cell_type": "code",
   "execution_count": 206,
   "id": "76527062",
   "metadata": {},
   "outputs": [
    {
     "data": {
      "text/plain": [
       "-0.02083462759778859"
      ]
     },
     "execution_count": 206,
     "metadata": {},
     "output_type": "execute_result"
    }
   ],
   "source": [
    "get_cross_val_score(LinearRegression(),X[features])"
   ]
  },
  {
   "cell_type": "markdown",
   "id": "b922abac",
   "metadata": {},
   "source": [
    "## K-Nearest Neighbors"
   ]
  },
  {
   "cell_type": "code",
   "execution_count": 207,
   "id": "53fee014",
   "metadata": {},
   "outputs": [],
   "source": [
    "from sklearn.neighbors import KNeighborsRegressor"
   ]
  },
  {
   "cell_type": "code",
   "execution_count": 208,
   "id": "297bd4bf",
   "metadata": {},
   "outputs": [
    {
     "data": {
      "text/plain": [
       "-0.03177287676624391"
      ]
     },
     "execution_count": 208,
     "metadata": {},
     "output_type": "execute_result"
    }
   ],
   "source": [
    "kn = KNeighborsRegressor()\n",
    "get_cross_val_score(kn, X)"
   ]
  },
  {
   "cell_type": "code",
   "execution_count": 209,
   "id": "c1e4e9d0",
   "metadata": {},
   "outputs": [
    {
     "name": "stdout",
     "output_type": "stream",
     "text": [
      "1 -0.05277729784219224\n",
      "2 -0.038100586735982316\n",
      "3 -0.03507304593827619\n",
      "4 -0.032326237553448066\n",
      "5 -0.03177287676624391\n",
      "6 -0.031026628506679855\n",
      "7 -0.029778201489366874\n",
      "8 -0.029178876282217426\n",
      "9 -0.02920521422398846\n",
      "10 -0.02886810285636729\n",
      "11 -0.028741347796891387\n",
      "12 -0.029148913603975393\n",
      "13 -0.029224521829889234\n",
      "14 -0.02936731832233667\n",
      "15 -0.029788214935260366\n",
      "16 -0.02934784632135613\n",
      "17 -0.02959674436036423\n",
      "18 -0.02933331365676864\n",
      "19 -0.029925307013890817\n"
     ]
    }
   ],
   "source": [
    "for n in range(1, 20):\n",
    "    print(n, get_cross_val_score(KNeighborsRegressor(n_neighbors=n), X))"
   ]
  },
  {
   "cell_type": "code",
   "execution_count": 210,
   "id": "c9898cec",
   "metadata": {},
   "outputs": [
    {
     "data": {
      "text/plain": [
       "-0.02886810285636729"
      ]
     },
     "execution_count": 210,
     "metadata": {},
     "output_type": "execute_result"
    }
   ],
   "source": [
    "get_cross_val_score(KNeighborsRegressor(n_neighbors=10), X)"
   ]
  },
  {
   "cell_type": "markdown",
   "id": "ba750a9c",
   "metadata": {},
   "source": [
    "## Lasso Regression"
   ]
  },
  {
   "cell_type": "code",
   "execution_count": 211,
   "id": "a704f058",
   "metadata": {},
   "outputs": [],
   "source": [
    "from sklearn.linear_model import Lasso"
   ]
  },
  {
   "cell_type": "code",
   "execution_count": 212,
   "id": "2613e407",
   "metadata": {},
   "outputs": [
    {
     "data": {
      "text/plain": [
       "-0.058043802096115815"
      ]
     },
     "execution_count": 212,
     "metadata": {},
     "output_type": "execute_result"
    }
   ],
   "source": [
    "lasso = Lasso(random_state=1)\n",
    "get_cross_val_score(lasso, X)"
   ]
  },
  {
   "cell_type": "markdown",
   "id": "54a6ce65",
   "metadata": {},
   "source": [
    "## Random Forest"
   ]
  },
  {
   "cell_type": "code",
   "execution_count": 213,
   "id": "ea583add",
   "metadata": {},
   "outputs": [],
   "source": [
    "from sklearn.ensemble import RandomForestRegressor\n",
    "from sklearn.model_selection import GridSearchCV"
   ]
  },
  {
   "cell_type": "code",
   "execution_count": 214,
   "id": "962c4733",
   "metadata": {},
   "outputs": [],
   "source": [
    "rf_features = select_features(RandomForestRegressor(random_state=1))"
   ]
  },
  {
   "cell_type": "code",
   "execution_count": 215,
   "id": "33b350ca",
   "metadata": {},
   "outputs": [
    {
     "data": {
      "text/plain": [
       "Index(['old_score_avg', 'generic_ballot', 'unemployment_rate',\n",
       "       'native_amer_perc', 'asian_perc', 'black_perc'],\n",
       "      dtype='object')"
      ]
     },
     "execution_count": 215,
     "metadata": {},
     "output_type": "execute_result"
    }
   ],
   "source": [
    "rf_features"
   ]
  },
  {
   "cell_type": "code",
   "execution_count": 216,
   "id": "6c006a25",
   "metadata": {},
   "outputs": [],
   "source": [
    "searcher = GridSearchCV(RandomForestRegressor(), param_grid={\"n_estimators\": [4, 6, 9],\n",
    "            \"max_depth\": [2, 5, 10],\n",
    "            \"max_features\": [.5, .8, 1],\n",
    "            \"min_samples_leaf\": [1, 5, 8],\n",
    "            \"min_samples_split\": [2, 3, 5]}, cv=4)\n",
    "searcher.fit(X, y)\n",
    "rf_best_estimator = searcher.best_estimator_\n",
    "rf_best_params = searcher.best_params_"
   ]
  },
  {
   "cell_type": "code",
   "execution_count": 217,
   "id": "c1fe0d51",
   "metadata": {},
   "outputs": [
    {
     "data": {
      "text/plain": [
       "RandomForestRegressor(max_depth=5, max_features=0.8, min_samples_leaf=8,\n",
       "                      n_estimators=4)"
      ]
     },
     "execution_count": 217,
     "metadata": {},
     "output_type": "execute_result"
    }
   ],
   "source": [
    "rf_best_estimator"
   ]
  },
  {
   "cell_type": "code",
   "execution_count": 218,
   "id": "9cf49e98",
   "metadata": {},
   "outputs": [
    {
     "data": {
      "text/plain": [
       "{'max_depth': 5,\n",
       " 'max_features': 0.8,\n",
       " 'min_samples_leaf': 8,\n",
       " 'min_samples_split': 2,\n",
       " 'n_estimators': 4}"
      ]
     },
     "execution_count": 218,
     "metadata": {},
     "output_type": "execute_result"
    }
   ],
   "source": [
    "rf_best_params"
   ]
  },
  {
   "cell_type": "code",
   "execution_count": 219,
   "id": "15a14446",
   "metadata": {},
   "outputs": [
    {
     "data": {
      "text/plain": [
       "-0.02600919170948179"
      ]
     },
     "execution_count": 219,
     "metadata": {},
     "output_type": "execute_result"
    }
   ],
   "source": [
    "get_cross_val_score(rf_best_estimator, X[rf_features])"
   ]
  },
  {
   "cell_type": "markdown",
   "id": "c509a6c5",
   "metadata": {},
   "source": [
    "## Final Predictions"
   ]
  },
  {
   "cell_type": "code",
   "execution_count": 220,
   "id": "69f39079",
   "metadata": {},
   "outputs": [],
   "source": [
    "def get_final_predictions(model, features):\n",
    "    model.fit(features, y)\n",
    "    predictions = model.predict(test[features.columns])\n",
    "    rmse = mean_squared_error(test['partisan_score'], predictions, squared=False)\n",
    "    return rmse"
   ]
  },
  {
   "cell_type": "code",
   "execution_count": 221,
   "id": "f54a7f49",
   "metadata": {},
   "outputs": [
    {
     "data": {
      "text/plain": [
       "0.12120906939944055"
      ]
     },
     "execution_count": 221,
     "metadata": {},
     "output_type": "execute_result"
    }
   ],
   "source": [
    "get_final_predictions(LinearRegression(), X)"
   ]
  },
  {
   "cell_type": "code",
   "execution_count": 222,
   "id": "336b1d5f",
   "metadata": {},
   "outputs": [
    {
     "data": {
      "text/plain": [
       "0.12118281538185044"
      ]
     },
     "execution_count": 222,
     "metadata": {},
     "output_type": "execute_result"
    }
   ],
   "source": [
    "get_final_predictions(KNeighborsRegressor(n_neighbors=10), X)"
   ]
  },
  {
   "cell_type": "code",
   "execution_count": 223,
   "id": "23199c8f",
   "metadata": {},
   "outputs": [
    {
     "data": {
      "text/plain": [
       "0.12740429488482205"
      ]
     },
     "execution_count": 223,
     "metadata": {},
     "output_type": "execute_result"
    }
   ],
   "source": [
    "get_final_predictions(rf_best_estimator, X[rf_features])"
   ]
  },
  {
   "cell_type": "code",
   "execution_count": 224,
   "id": "7e0be424",
   "metadata": {},
   "outputs": [
    {
     "data": {
      "text/plain": [
       "0.11840618718751311"
      ]
     },
     "execution_count": 224,
     "metadata": {},
     "output_type": "execute_result"
    }
   ],
   "source": [
    "get_final_predictions(LinearRegression(), X[features])"
   ]
  },
  {
   "cell_type": "code",
   "execution_count": 225,
   "id": "c4cf09b7",
   "metadata": {},
   "outputs": [
    {
     "name": "stderr",
     "output_type": "stream",
     "text": [
      "/tmp/ipykernel_360046/2548723732.py:1: SettingWithCopyWarning: \n",
      "A value is trying to be set on a copy of a slice from a DataFrame.\n",
      "Try using .loc[row_indexer,col_indexer] = value instead\n",
      "\n",
      "See the caveats in the documentation: https://pandas.pydata.org/pandas-docs/stable/user_guide/indexing.html#returning-a-view-versus-a-copy\n",
      "  test['predict_vals'] = predictions\n"
     ]
    }
   ],
   "source": [
    "test['predict_vals'] = predictions"
   ]
  },
  {
   "cell_type": "code",
   "execution_count": 226,
   "id": "87f7bb32",
   "metadata": {},
   "outputs": [
    {
     "data": {
      "text/html": [
       "<div>\n",
       "<style scoped>\n",
       "    .dataframe tbody tr th:only-of-type {\n",
       "        vertical-align: middle;\n",
       "    }\n",
       "\n",
       "    .dataframe tbody tr th {\n",
       "        vertical-align: top;\n",
       "    }\n",
       "\n",
       "    .dataframe thead th {\n",
       "        text-align: right;\n",
       "    }\n",
       "</style>\n",
       "<table border=\"1\" class=\"dataframe\">\n",
       "  <thead>\n",
       "    <tr style=\"text-align: right;\">\n",
       "      <th></th>\n",
       "      <th>state</th>\n",
       "      <th>year</th>\n",
       "      <th>partisan_score</th>\n",
       "      <th>predict_vals</th>\n",
       "    </tr>\n",
       "  </thead>\n",
       "  <tbody>\n",
       "    <tr>\n",
       "      <th>1</th>\n",
       "      <td>ALASKA</td>\n",
       "      <td>2008</td>\n",
       "      <td>0.012442</td>\n",
       "      <td>0.007044</td>\n",
       "    </tr>\n",
       "    <tr>\n",
       "      <th>7</th>\n",
       "      <td>IOWA</td>\n",
       "      <td>2008</td>\n",
       "      <td>0.253945</td>\n",
       "      <td>-0.041923</td>\n",
       "    </tr>\n",
       "    <tr>\n",
       "      <th>8</th>\n",
       "      <td>KANSAS</td>\n",
       "      <td>2008</td>\n",
       "      <td>-0.235999</td>\n",
       "      <td>-0.234311</td>\n",
       "    </tr>\n",
       "    <tr>\n",
       "      <th>20</th>\n",
       "      <td>NEW MEXICO</td>\n",
       "      <td>2008</td>\n",
       "      <td>0.226560</td>\n",
       "      <td>0.078714</td>\n",
       "    </tr>\n",
       "    <tr>\n",
       "      <th>22</th>\n",
       "      <td>OKLAHOMA</td>\n",
       "      <td>2008</td>\n",
       "      <td>-0.174960</td>\n",
       "      <td>-0.081354</td>\n",
       "    </tr>\n",
       "    <tr>\n",
       "      <th>25</th>\n",
       "      <td>SOUTH CAROLINA</td>\n",
       "      <td>2008</td>\n",
       "      <td>-0.152778</td>\n",
       "      <td>0.001694</td>\n",
       "    </tr>\n",
       "    <tr>\n",
       "      <th>30</th>\n",
       "      <td>WEST VIRGINIA</td>\n",
       "      <td>2008</td>\n",
       "      <td>0.274710</td>\n",
       "      <td>0.373667</td>\n",
       "    </tr>\n",
       "    <tr>\n",
       "      <th>37</th>\n",
       "      <td>CONNECTICUT</td>\n",
       "      <td>2010</td>\n",
       "      <td>0.092673</td>\n",
       "      <td>0.118947</td>\n",
       "    </tr>\n",
       "    <tr>\n",
       "      <th>50</th>\n",
       "      <td>NEW HAMPSHIRE</td>\n",
       "      <td>2010</td>\n",
       "      <td>-0.232396</td>\n",
       "      <td>-0.327053</td>\n",
       "    </tr>\n",
       "    <tr>\n",
       "      <th>57</th>\n",
       "      <td>PENNSYLVANIA</td>\n",
       "      <td>2010</td>\n",
       "      <td>-0.020170</td>\n",
       "      <td>-0.130874</td>\n",
       "    </tr>\n",
       "    <tr>\n",
       "      <th>60</th>\n",
       "      <td>VERMONT</td>\n",
       "      <td>2010</td>\n",
       "      <td>0.334138</td>\n",
       "      <td>0.069211</td>\n",
       "    </tr>\n",
       "    <tr>\n",
       "      <th>61</th>\n",
       "      <td>WASHINGTON</td>\n",
       "      <td>2010</td>\n",
       "      <td>0.047297</td>\n",
       "      <td>0.006404</td>\n",
       "    </tr>\n",
       "    <tr>\n",
       "      <th>63</th>\n",
       "      <td>ARIZONA</td>\n",
       "      <td>2012</td>\n",
       "      <td>-0.030273</td>\n",
       "      <td>-0.079586</td>\n",
       "    </tr>\n",
       "    <tr>\n",
       "      <th>68</th>\n",
       "      <td>INDIANA</td>\n",
       "      <td>2012</td>\n",
       "      <td>0.057638</td>\n",
       "      <td>-0.047009</td>\n",
       "    </tr>\n",
       "    <tr>\n",
       "      <th>71</th>\n",
       "      <td>MASSACHUSETTS</td>\n",
       "      <td>2012</td>\n",
       "      <td>0.074838</td>\n",
       "      <td>0.299651</td>\n",
       "    </tr>\n",
       "    <tr>\n",
       "      <th>72</th>\n",
       "      <td>MICHIGAN</td>\n",
       "      <td>2012</td>\n",
       "      <td>0.208136</td>\n",
       "      <td>0.250287</td>\n",
       "    </tr>\n",
       "    <tr>\n",
       "      <th>79</th>\n",
       "      <td>NEW JERSEY</td>\n",
       "      <td>2012</td>\n",
       "      <td>0.194911</td>\n",
       "      <td>0.226071</td>\n",
       "    </tr>\n",
       "    <tr>\n",
       "      <th>86</th>\n",
       "      <td>TENNESSEE</td>\n",
       "      <td>2012</td>\n",
       "      <td>-0.344850</td>\n",
       "      <td>-0.087510</td>\n",
       "    </tr>\n",
       "    <tr>\n",
       "      <th>96</th>\n",
       "      <td>ARKANSAS</td>\n",
       "      <td>2014</td>\n",
       "      <td>-0.170672</td>\n",
       "      <td>-0.209291</td>\n",
       "    </tr>\n",
       "    <tr>\n",
       "      <th>101</th>\n",
       "      <td>ILLINOIS</td>\n",
       "      <td>2014</td>\n",
       "      <td>0.108537</td>\n",
       "      <td>0.284651</td>\n",
       "    </tr>\n",
       "    <tr>\n",
       "      <th>115</th>\n",
       "      <td>NEW MEXICO</td>\n",
       "      <td>2014</td>\n",
       "      <td>0.111176</td>\n",
       "      <td>0.031865</td>\n",
       "    </tr>\n",
       "    <tr>\n",
       "      <th>121</th>\n",
       "      <td>SOUTH DAKOTA</td>\n",
       "      <td>2014</td>\n",
       "      <td>-0.208599</td>\n",
       "      <td>0.028891</td>\n",
       "    </tr>\n",
       "    <tr>\n",
       "      <th>128</th>\n",
       "      <td>ARKANSAS</td>\n",
       "      <td>2016</td>\n",
       "      <td>-0.236006</td>\n",
       "      <td>-0.177832</td>\n",
       "    </tr>\n",
       "    <tr>\n",
       "      <th>129</th>\n",
       "      <td>COLORADO</td>\n",
       "      <td>2016</td>\n",
       "      <td>0.056650</td>\n",
       "      <td>-0.054748</td>\n",
       "    </tr>\n",
       "    <tr>\n",
       "      <th>131</th>\n",
       "      <td>FLORIDA</td>\n",
       "      <td>2016</td>\n",
       "      <td>-0.076663</td>\n",
       "      <td>-0.049230</td>\n",
       "    </tr>\n",
       "    <tr>\n",
       "      <th>133</th>\n",
       "      <td>HAWAII</td>\n",
       "      <td>2016</td>\n",
       "      <td>0.488848</td>\n",
       "      <td>0.466047</td>\n",
       "    </tr>\n",
       "    <tr>\n",
       "      <th>134</th>\n",
       "      <td>IDAHO</td>\n",
       "      <td>2016</td>\n",
       "      <td>-0.384079</td>\n",
       "      <td>-0.332179</td>\n",
       "    </tr>\n",
       "    <tr>\n",
       "      <th>137</th>\n",
       "      <td>IOWA</td>\n",
       "      <td>2016</td>\n",
       "      <td>-0.244347</td>\n",
       "      <td>-0.188966</td>\n",
       "    </tr>\n",
       "    <tr>\n",
       "      <th>139</th>\n",
       "      <td>KENTUCKY</td>\n",
       "      <td>2016</td>\n",
       "      <td>-0.145488</td>\n",
       "      <td>-0.105623</td>\n",
       "    </tr>\n",
       "    <tr>\n",
       "      <th>140</th>\n",
       "      <td>MARYLAND</td>\n",
       "      <td>2016</td>\n",
       "      <td>0.252130</td>\n",
       "      <td>0.206288</td>\n",
       "    </tr>\n",
       "    <tr>\n",
       "      <th>141</th>\n",
       "      <td>MISSOURI</td>\n",
       "      <td>2016</td>\n",
       "      <td>-0.027923</td>\n",
       "      <td>-0.009823</td>\n",
       "    </tr>\n",
       "    <tr>\n",
       "      <th>142</th>\n",
       "      <td>NEVADA</td>\n",
       "      <td>2016</td>\n",
       "      <td>0.024285</td>\n",
       "      <td>0.052200</td>\n",
       "    </tr>\n",
       "    <tr>\n",
       "      <th>144</th>\n",
       "      <td>NEW YORK</td>\n",
       "      <td>2016</td>\n",
       "      <td>0.392309</td>\n",
       "      <td>0.307549</td>\n",
       "    </tr>\n",
       "    <tr>\n",
       "      <th>146</th>\n",
       "      <td>OHIO</td>\n",
       "      <td>2016</td>\n",
       "      <td>-0.208713</td>\n",
       "      <td>-0.047791</td>\n",
       "    </tr>\n",
       "    <tr>\n",
       "      <th>156</th>\n",
       "      <td>ARIZONA</td>\n",
       "      <td>2018</td>\n",
       "      <td>0.023445</td>\n",
       "      <td>-0.056425</td>\n",
       "    </tr>\n",
       "    <tr>\n",
       "      <th>157</th>\n",
       "      <td>CONNECTICUT</td>\n",
       "      <td>2018</td>\n",
       "      <td>0.174474</td>\n",
       "      <td>0.158718</td>\n",
       "    </tr>\n",
       "    <tr>\n",
       "      <th>175</th>\n",
       "      <td>NORTH DAKOTA</td>\n",
       "      <td>2018</td>\n",
       "      <td>-0.108371</td>\n",
       "      <td>0.000260</td>\n",
       "    </tr>\n",
       "    <tr>\n",
       "      <th>178</th>\n",
       "      <td>RHODE ISLAND</td>\n",
       "      <td>2018</td>\n",
       "      <td>0.231078</td>\n",
       "      <td>0.285487</td>\n",
       "    </tr>\n",
       "    <tr>\n",
       "      <th>191</th>\n",
       "      <td>DELAWARE</td>\n",
       "      <td>2020</td>\n",
       "      <td>0.215405</td>\n",
       "      <td>0.145234</td>\n",
       "    </tr>\n",
       "    <tr>\n",
       "      <th>192</th>\n",
       "      <td>GEORGIA</td>\n",
       "      <td>2020</td>\n",
       "      <td>-0.017790</td>\n",
       "      <td>-0.066072</td>\n",
       "    </tr>\n",
       "    <tr>\n",
       "      <th>203</th>\n",
       "      <td>MONTANA</td>\n",
       "      <td>2020</td>\n",
       "      <td>-0.100243</td>\n",
       "      <td>-0.078548</td>\n",
       "    </tr>\n",
       "    <tr>\n",
       "      <th>204</th>\n",
       "      <td>NEBRASKA</td>\n",
       "      <td>2020</td>\n",
       "      <td>-0.383131</td>\n",
       "      <td>-0.190872</td>\n",
       "    </tr>\n",
       "    <tr>\n",
       "      <th>206</th>\n",
       "      <td>NEW JERSEY</td>\n",
       "      <td>2020</td>\n",
       "      <td>0.163075</td>\n",
       "      <td>0.126475</td>\n",
       "    </tr>\n",
       "    <tr>\n",
       "      <th>214</th>\n",
       "      <td>TENNESSEE</td>\n",
       "      <td>2020</td>\n",
       "      <td>-0.270371</td>\n",
       "      <td>-0.147667</td>\n",
       "    </tr>\n",
       "  </tbody>\n",
       "</table>\n",
       "</div>"
      ],
      "text/plain": [
       "              state  year  partisan_score  predict_vals\n",
       "1            ALASKA  2008        0.012442      0.007044\n",
       "7              IOWA  2008        0.253945     -0.041923\n",
       "8            KANSAS  2008       -0.235999     -0.234311\n",
       "20       NEW MEXICO  2008        0.226560      0.078714\n",
       "22         OKLAHOMA  2008       -0.174960     -0.081354\n",
       "25   SOUTH CAROLINA  2008       -0.152778      0.001694\n",
       "30    WEST VIRGINIA  2008        0.274710      0.373667\n",
       "37      CONNECTICUT  2010        0.092673      0.118947\n",
       "50    NEW HAMPSHIRE  2010       -0.232396     -0.327053\n",
       "57     PENNSYLVANIA  2010       -0.020170     -0.130874\n",
       "60          VERMONT  2010        0.334138      0.069211\n",
       "61       WASHINGTON  2010        0.047297      0.006404\n",
       "63          ARIZONA  2012       -0.030273     -0.079586\n",
       "68          INDIANA  2012        0.057638     -0.047009\n",
       "71    MASSACHUSETTS  2012        0.074838      0.299651\n",
       "72         MICHIGAN  2012        0.208136      0.250287\n",
       "79       NEW JERSEY  2012        0.194911      0.226071\n",
       "86        TENNESSEE  2012       -0.344850     -0.087510\n",
       "96         ARKANSAS  2014       -0.170672     -0.209291\n",
       "101        ILLINOIS  2014        0.108537      0.284651\n",
       "115      NEW MEXICO  2014        0.111176      0.031865\n",
       "121    SOUTH DAKOTA  2014       -0.208599      0.028891\n",
       "128        ARKANSAS  2016       -0.236006     -0.177832\n",
       "129        COLORADO  2016        0.056650     -0.054748\n",
       "131         FLORIDA  2016       -0.076663     -0.049230\n",
       "133          HAWAII  2016        0.488848      0.466047\n",
       "134           IDAHO  2016       -0.384079     -0.332179\n",
       "137            IOWA  2016       -0.244347     -0.188966\n",
       "139        KENTUCKY  2016       -0.145488     -0.105623\n",
       "140        MARYLAND  2016        0.252130      0.206288\n",
       "141        MISSOURI  2016       -0.027923     -0.009823\n",
       "142          NEVADA  2016        0.024285      0.052200\n",
       "144        NEW YORK  2016        0.392309      0.307549\n",
       "146            OHIO  2016       -0.208713     -0.047791\n",
       "156         ARIZONA  2018        0.023445     -0.056425\n",
       "157     CONNECTICUT  2018        0.174474      0.158718\n",
       "175    NORTH DAKOTA  2018       -0.108371      0.000260\n",
       "178    RHODE ISLAND  2018        0.231078      0.285487\n",
       "191        DELAWARE  2020        0.215405      0.145234\n",
       "192         GEORGIA  2020       -0.017790     -0.066072\n",
       "203         MONTANA  2020       -0.100243     -0.078548\n",
       "204        NEBRASKA  2020       -0.383131     -0.190872\n",
       "206      NEW JERSEY  2020        0.163075      0.126475\n",
       "214       TENNESSEE  2020       -0.270371     -0.147667"
      ]
     },
     "execution_count": 226,
     "metadata": {},
     "output_type": "execute_result"
    }
   ],
   "source": [
    "test[['state','year','partisan_score', 'predict_vals']]"
   ]
  },
  {
   "cell_type": "code",
   "execution_count": 227,
   "id": "fa5fcffa",
   "metadata": {},
   "outputs": [
    {
     "data": {
      "text/plain": [
       "0.09161619188634354"
      ]
     },
     "execution_count": 227,
     "metadata": {},
     "output_type": "execute_result"
    }
   ],
   "source": [
    "abs(test['predict_vals'] - test['partisan_score']).mean()"
   ]
  },
  {
   "cell_type": "markdown",
   "id": "7990eaef",
   "metadata": {},
   "source": [
    "Above, we see that our final model was off by around 9 percentage points on average. Clearly, our model could be improved. "
   ]
  },
  {
   "cell_type": "markdown",
   "id": "09c81b0b",
   "metadata": {},
   "source": [
    "## Comparison with Baseline Estimate"
   ]
  },
  {
   "cell_type": "markdown",
   "id": "c606cdf5",
   "metadata": {},
   "source": [
    "Here, we will compare our model with the baseline estimate, which is the old score average added to the generic ballot. "
   ]
  },
  {
   "cell_type": "code",
   "execution_count": 228,
   "id": "3c0a796e",
   "metadata": {},
   "outputs": [],
   "source": [
    "compare_df = elections.copy()"
   ]
  },
  {
   "cell_type": "code",
   "execution_count": 229,
   "id": "e3801d81",
   "metadata": {},
   "outputs": [],
   "source": [
    "compare_df['baseline_estimate'] = compare_df['old_score_avg'] + compare_df['generic_ballot']"
   ]
  },
  {
   "cell_type": "code",
   "execution_count": 230,
   "id": "a6caea96",
   "metadata": {},
   "outputs": [
    {
     "data": {
      "text/plain": [
       "0.10451792391650988"
      ]
     },
     "execution_count": 230,
     "metadata": {},
     "output_type": "execute_result"
    }
   ],
   "source": [
    "abs(compare_df['baseline_estimate'] - compare_df['partisan_score']).mean()"
   ]
  },
  {
   "cell_type": "markdown",
   "id": "2de0af9d",
   "metadata": {},
   "source": [
    "Our baseline estimate was off by around 10.5 percentage points, so our linear regression model represents a slight improvement. "
   ]
  }
 ],
 "metadata": {
  "kernelspec": {
   "display_name": "Python 3 (ipykernel)",
   "language": "python",
   "name": "python3"
  },
  "language_info": {
   "codemirror_mode": {
    "name": "ipython",
    "version": 3
   },
   "file_extension": ".py",
   "mimetype": "text/x-python",
   "name": "python",
   "nbconvert_exporter": "python",
   "pygments_lexer": "ipython3",
   "version": "3.9.12"
  }
 },
 "nbformat": 4,
 "nbformat_minor": 5
}
